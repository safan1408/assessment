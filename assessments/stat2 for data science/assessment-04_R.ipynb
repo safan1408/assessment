{
 "cells": [
  {
   "cell_type": "markdown",
   "id": "72353ea6",
   "metadata": {},
   "source": [
    "# a)"
   ]
  },
  {
   "cell_type": "code",
   "execution_count": 3,
   "id": "fe71d972",
   "metadata": {},
   "outputs": [],
   "source": [
    "set.seed(1)\n",
    "X=rnorm(n=50,mean =20,sd = 3)"
   ]
  },
  {
   "cell_type": "markdown",
   "id": "b9eea1cb",
   "metadata": {},
   "source": [
    "\n",
    "z=(x_bar-mu) / (sigma / sqrt(n))"
   ]
  },
  {
   "cell_type": "markdown",
   "id": "68863e2b",
   "metadata": {},
   "source": [
    "# b)"
   ]
  },
  {
   "cell_type": "code",
   "execution_count": 4,
   "id": "22e7928e",
   "metadata": {},
   "outputs": [
    {
     "data": {
      "text/html": [
       "0.710276599184214"
      ],
      "text/latex": [
       "0.710276599184214"
      ],
      "text/markdown": [
       "0.710276599184214"
      ],
      "text/plain": [
       "[1] 0.7102766"
      ]
     },
     "metadata": {},
     "output_type": "display_data"
    }
   ],
   "source": [
    "zstat=(mean(X)-20)/(3/sqrt(50))\n",
    "zstat"
   ]
  },
  {
   "cell_type": "markdown",
   "id": "2b81267e",
   "metadata": {},
   "source": [
    "# c)"
   ]
  },
  {
   "cell_type": "code",
   "execution_count": 11,
   "id": "d139e6c4",
   "metadata": {},
   "outputs": [
    {
     "data": {
      "text/html": [
       "1.95996398454005"
      ],
      "text/latex": [
       "1.95996398454005"
      ],
      "text/markdown": [
       "1.95996398454005"
      ],
      "text/plain": [
       "[1] 1.959964"
      ]
     },
     "metadata": {},
     "output_type": "display_data"
    }
   ],
   "source": [
    "qnorm(p = 0.975)#two sided test"
   ]
  },
  {
   "cell_type": "markdown",
   "id": "47955b4c",
   "metadata": {},
   "source": [
    "- zstat(0.76) < z_critical(1.96)\n",
    "\n",
    "- We can not reject the null hypothesis. **Therefore, the mean is equal to 20**\n",
    "- mean of the sample same as the mean of the population at 5% level of significance"
   ]
  }
 ],
 "metadata": {
  "kernelspec": {
   "display_name": "R",
   "language": "R",
   "name": "ir"
  },
  "language_info": {
   "codemirror_mode": "r",
   "file_extension": ".r",
   "mimetype": "text/x-r-source",
   "name": "R",
   "pygments_lexer": "r",
   "version": "3.6.1"
  }
 },
 "nbformat": 4,
 "nbformat_minor": 5
}
