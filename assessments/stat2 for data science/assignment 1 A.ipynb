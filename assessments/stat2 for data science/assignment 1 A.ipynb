{
 "cells": [
  {
   "cell_type": "markdown",
   "id": "af0adf13",
   "metadata": {},
   "source": [
    "# part A"
   ]
  },
  {
   "cell_type": "markdown",
   "id": "3ee4f6f0",
   "metadata": {},
   "source": [
    "<font size=4> Variable X: Random numbers drawn from a Normal distribution with a mean of 80 and a standard\n",
    "deviation of 10.</font>\n",
    "\n",
    "<font size=4>Variable Y: Random numbers drawn from a Normal distribution with a mean of 40 and a standard \n",
    "deviation of 5, added to Variable X. </font>"
   ]
  },
  {
   "cell_type": "code",
   "execution_count": 1,
   "id": "4d313d08",
   "metadata": {},
   "outputs": [],
   "source": [
    "import numpy as np\n",
    "import matplotlib.pyplot as plt\n",
    "from scipy.stats import pearsonr\n"
   ]
  },
  {
   "cell_type": "code",
   "execution_count": 7,
   "id": "8302bfcf",
   "metadata": {},
   "outputs": [],
   "source": [
    "np.random.seed(1)#Set the seed to 1 in the random number generator.\n"
   ]
  },
  {
   "cell_type": "code",
   "execution_count": 8,
   "id": "eeb3b3db",
   "metadata": {},
   "outputs": [],
   "source": [
    "x = 10 * np.random.randn(1000000) + 80\n",
    "y = x + (5 * np.random.randn(1000000) + 40)"
   ]
  },
  {
   "cell_type": "code",
   "execution_count": 12,
   "id": "64ac3304",
   "metadata": {},
   "outputs": [],
   "source": [
    "z=pearsonr(x,y)"
   ]
  },
  {
   "cell_type": "code",
   "execution_count": 16,
   "id": "603c04b6",
   "metadata": {},
   "outputs": [
    {
     "name": "stdout",
     "output_type": "stream",
     "text": [
      "correlation cofficient is 0.89 and p-value is 0.0\n"
     ]
    }
   ],
   "source": [
    "print('correlation cofficient is '+str(round(z[0],2))+' and '+'p-value is '+str(z[1]))"
   ]
  },
  {
   "cell_type": "markdown",
   "id": "44a37532",
   "metadata": {},
   "source": [
    "Here,x and y are higher possitive linear relationship.when x is increased, y should be incresed"
   ]
  },
  {
   "cell_type": "code",
   "execution_count": 9,
   "id": "b673cb82",
   "metadata": {},
   "outputs": [
    {
     "data": {
      "text/plain": [
       "array([[ 99.89809535,  99.89226776],\n",
       "       [ 99.89226776, 124.85826136]])"
      ]
     },
     "execution_count": 9,
     "metadata": {},
     "output_type": "execute_result"
    }
   ],
   "source": [
    "np.cov(x,y)"
   ]
  },
  {
   "cell_type": "markdown",
   "id": "baf0a721",
   "metadata": {},
   "source": [
    "here,covariance value is  high possitive number.so we can say if we increase x,y will be increase becourse those are high linear possitive relationship"
   ]
  }
 ],
 "metadata": {
  "kernelspec": {
   "display_name": "Python 3 (ipykernel)",
   "language": "python",
   "name": "python3"
  },
  "language_info": {
   "codemirror_mode": {
    "name": "ipython",
    "version": 3
   },
   "file_extension": ".py",
   "mimetype": "text/x-python",
   "name": "python",
   "nbconvert_exporter": "python",
   "pygments_lexer": "ipython3",
   "version": "3.9.7"
  }
 },
 "nbformat": 4,
 "nbformat_minor": 5
}
