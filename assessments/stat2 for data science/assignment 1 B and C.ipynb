{
 "cells": [
  {
   "cell_type": "markdown",
   "id": "dc82ec86",
   "metadata": {},
   "source": [
    "# Part B"
   ]
  },
  {
   "cell_type": "code",
   "execution_count": 1,
   "id": "11d27120",
   "metadata": {},
   "outputs": [
    {
     "name": "stderr",
     "output_type": "stream",
     "text": [
      "Registered S3 methods overwritten by 'ggplot2':\n",
      "  method         from \n",
      "  [.quosures     rlang\n",
      "  c.quosures     rlang\n",
      "  print.quosures rlang\n",
      "\n",
      "Attaching package: 'dplyr'\n",
      "\n",
      "The following objects are masked from 'package:stats':\n",
      "\n",
      "    filter, lag\n",
      "\n",
      "The following objects are masked from 'package:base':\n",
      "\n",
      "    intersect, setdiff, setequal, union\n",
      "\n"
     ]
    }
   ],
   "source": [
    "library(ggplot2)\n",
    "library(dplyr)\n",
    "library(repr)"
   ]
  },
  {
   "cell_type": "code",
   "execution_count": 2,
   "id": "72b81122",
   "metadata": {},
   "outputs": [],
   "source": [
    "set.seed(1)"
   ]
  },
  {
   "cell_type": "code",
   "execution_count": 3,
   "id": "9660b3a5",
   "metadata": {},
   "outputs": [],
   "source": [
    "x=rnorm(n = 1000000,mean = 80,sd = 10)\n"
   ]
  },
  {
   "cell_type": "code",
   "execution_count": 4,
   "id": "df82d254",
   "metadata": {},
   "outputs": [],
   "source": [
    "y=x+rnorm(n = 1000000,mean = 40,sd = 5)"
   ]
  },
  {
   "cell_type": "code",
   "execution_count": 5,
   "id": "ea40daee",
   "metadata": {},
   "outputs": [
    {
     "data": {
      "text/html": [
       "100.08"
      ],
      "text/latex": [
       "100.08"
      ],
      "text/markdown": [
       "100.08"
      ],
      "text/plain": [
       "[1] 100.08"
      ]
     },
     "metadata": {},
     "output_type": "display_data"
    }
   ],
   "source": [
    "round(cov(x = x,y = y),2)"
   ]
  },
  {
   "cell_type": "markdown",
   "id": "f8404247",
   "metadata": {},
   "source": [
    "here,covariance value is  high possitive number.so we can say if we increase x,y will be increase becorse those are high linear possitive relationship"
   ]
  },
  {
   "cell_type": "code",
   "execution_count": 6,
   "id": "3773b40f",
   "metadata": {},
   "outputs": [
    {
     "data": {
      "image/png": "[encoded data removed]",
      "text/plain": [
       "plot without title"
      ]
     },
     "metadata": {},
     "output_type": "display_data"
    }
   ],
   "source": [
    "ggplot(mapping = aes(x = x,y = y),alpha=0.005)+geom_point()"
   ]
  },
  {
   "cell_type": "markdown",
   "id": "47e1add3",
   "metadata": {},
   "source": [
    "<font size=4>Here,x and y are higher possitive linear relationship.when x is increased, y should be incresed</font>"
   ]
  },
  {
   "cell_type": "markdown",
   "id": "c18d7b0a",
   "metadata": {},
   "source": [
    "# Part C"
   ]
  },
  {
   "cell_type": "code",
   "execution_count": 7,
   "id": "996adcb1",
   "metadata": {},
   "outputs": [],
   "source": [
    "library(ggplot2)\n",
    "library(dplyr)"
   ]
  },
  {
   "cell_type": "code",
   "execution_count": 8,
   "id": "7233655c",
   "metadata": {},
   "outputs": [
    {
     "data": {
      "text/html": [
       "<table>\n",
       "<thead><tr><th scope=col>PID</th><th scope=col>county</th><th scope=col>state</th><th scope=col>area</th><th scope=col>poptotal</th><th scope=col>popdensity</th><th scope=col>popwhite</th><th scope=col>popblack</th><th scope=col>popamerindian</th><th scope=col>popasian</th><th scope=col>...</th><th scope=col>percollege</th><th scope=col>percprof</th><th scope=col>poppovertyknown</th><th scope=col>percpovertyknown</th><th scope=col>percbelowpoverty</th><th scope=col>percchildbelowpovert</th><th scope=col>percadultpoverty</th><th scope=col>percelderlypoverty</th><th scope=col>inmetro</th><th scope=col>category</th></tr></thead>\n",
       "<tbody>\n",
       "\t<tr><td>561      </td><td>ADAMS    </td><td>IL       </td><td>0.052    </td><td>66090    </td><td>1270.9615</td><td>63917    </td><td>1702     </td><td>98       </td><td>249      </td><td>...      </td><td>19.63139 </td><td>4.355859 </td><td>63628    </td><td>96.27478 </td><td>13.151443</td><td>18.01172 </td><td>11.009776</td><td>12.443812</td><td>0        </td><td>AAR      </td></tr>\n",
       "\t<tr><td>562      </td><td>ALEXANDER</td><td>IL       </td><td>0.014    </td><td>10626    </td><td> 759.0000</td><td> 7054    </td><td>3496     </td><td>19       </td><td> 48      </td><td>...      </td><td>11.24331 </td><td>2.870315 </td><td>10529    </td><td>99.08714 </td><td>32.244278</td><td>45.82651 </td><td>27.385647</td><td>25.228976</td><td>0        </td><td>LHR      </td></tr>\n",
       "\t<tr><td>563      </td><td>BOND     </td><td>IL       </td><td>0.022    </td><td>14991    </td><td> 681.4091</td><td>14477    </td><td> 429     </td><td>35       </td><td> 16      </td><td>...      </td><td>17.03382 </td><td>4.488572 </td><td>14235    </td><td>94.95697 </td><td>12.068844</td><td>14.03606 </td><td>10.852090</td><td>12.697410</td><td>0        </td><td>AAR      </td></tr>\n",
       "\t<tr><td>564      </td><td>BOONE    </td><td>IL       </td><td>0.017    </td><td>30806    </td><td>1812.1176</td><td>29344    </td><td> 127     </td><td>46       </td><td>150      </td><td>...      </td><td>17.27895 </td><td>4.197800 </td><td>30337    </td><td>98.47757 </td><td> 7.209019</td><td>11.17954 </td><td> 5.536013</td><td> 6.217047</td><td>1        </td><td>ALU      </td></tr>\n",
       "\t<tr><td>565      </td><td>BROWN    </td><td>IL       </td><td>0.018    </td><td> 5836    </td><td> 324.2222</td><td> 5264    </td><td> 547     </td><td>14       </td><td>  5      </td><td>...      </td><td>14.47600 </td><td>3.367680 </td><td> 4815    </td><td>82.50514 </td><td>13.520249</td><td>13.02289 </td><td>11.143211</td><td>19.200000</td><td>0        </td><td>AAR      </td></tr>\n",
       "</tbody>\n",
       "</table>\n"
      ],
      "text/latex": [
       "\\begin{tabular}{r|llllllllllllllllllllllllllll}\n",
       " PID & county & state & area & poptotal & popdensity & popwhite & popblack & popamerindian & popasian & ... & percollege & percprof & poppovertyknown & percpovertyknown & percbelowpoverty & percchildbelowpovert & percadultpoverty & percelderlypoverty & inmetro & category\\\\\n",
       "\\hline\n",
       "\t 561       & ADAMS     & IL        & 0.052     & 66090     & 1270.9615 & 63917     & 1702      & 98        & 249       & ...       & 19.63139  & 4.355859  & 63628     & 96.27478  & 13.151443 & 18.01172  & 11.009776 & 12.443812 & 0         & AAR      \\\\\n",
       "\t 562       & ALEXANDER & IL        & 0.014     & 10626     &  759.0000 &  7054     & 3496      & 19        &  48       & ...       & 11.24331  & 2.870315  & 10529     & 99.08714  & 32.244278 & 45.82651  & 27.385647 & 25.228976 & 0         & LHR      \\\\\n",
       "\t 563       & BOND      & IL        & 0.022     & 14991     &  681.4091 & 14477     &  429      & 35        &  16       & ...       & 17.03382  & 4.488572  & 14235     & 94.95697  & 12.068844 & 14.03606  & 10.852090 & 12.697410 & 0         & AAR      \\\\\n",
       "\t 564       & BOONE     & IL        & 0.017     & 30806     & 1812.1176 & 29344     &  127      & 46        & 150       & ...       & 17.27895  & 4.197800  & 30337     & 98.47757  &  7.209019 & 11.17954  &  5.536013 &  6.217047 & 1         & ALU      \\\\\n",
       "\t 565       & BROWN     & IL        & 0.018     &  5836     &  324.2222 &  5264     &  547      & 14        &   5       & ...       & 14.47600  & 3.367680  &  4815     & 82.50514  & 13.520249 & 13.02289  & 11.143211 & 19.200000 & 0         & AAR      \\\\\n",
       "\\end{tabular}\n"
      ],
      "text/markdown": [
       "\n",
       "| PID | county | state | area | poptotal | popdensity | popwhite | popblack | popamerindian | popasian | ... | percollege | percprof | poppovertyknown | percpovertyknown | percbelowpoverty | percchildbelowpovert | percadultpoverty | percelderlypoverty | inmetro | category |\n",
       "|---|---|---|---|---|---|---|---|---|---|---|---|---|---|---|---|---|---|---|---|---|\n",
       "| 561       | ADAMS     | IL        | 0.052     | 66090     | 1270.9615 | 63917     | 1702      | 98        | 249       | ...       | 19.63139  | 4.355859  | 63628     | 96.27478  | 13.151443 | 18.01172  | 11.009776 | 12.443812 | 0         | AAR       |\n",
       "| 562       | ALEXANDER | IL        | 0.014     | 10626     |  759.0000 |  7054     | 3496      | 19        |  48       | ...       | 11.24331  | 2.870315  | 10529     | 99.08714  | 32.244278 | 45.82651  | 27.385647 | 25.228976 | 0         | LHR       |\n",
       "| 563       | BOND      | IL        | 0.022     | 14991     |  681.4091 | 14477     |  429      | 35        |  16       | ...       | 17.03382  | 4.488572  | 14235     | 94.95697  | 12.068844 | 14.03606  | 10.852090 | 12.697410 | 0         | AAR       |\n",
       "| 564       | BOONE     | IL        | 0.017     | 30806     | 1812.1176 | 29344     |  127      | 46        | 150       | ...       | 17.27895  | 4.197800  | 30337     | 98.47757  |  7.209019 | 11.17954  |  5.536013 |  6.217047 | 1         | ALU       |\n",
       "| 565       | BROWN     | IL        | 0.018     |  5836     |  324.2222 |  5264     |  547      | 14        |   5       | ...       | 14.47600  | 3.367680  |  4815     | 82.50514  | 13.520249 | 13.02289  | 11.143211 | 19.200000 | 0         | AAR       |\n",
       "\n"
      ],
      "text/plain": [
       "  PID county    state area  poptotal popdensity popwhite popblack popamerindian\n",
       "1 561 ADAMS     IL    0.052 66090    1270.9615  63917    1702     98           \n",
       "2 562 ALEXANDER IL    0.014 10626     759.0000   7054    3496     19           \n",
       "3 563 BOND      IL    0.022 14991     681.4091  14477     429     35           \n",
       "4 564 BOONE     IL    0.017 30806    1812.1176  29344     127     46           \n",
       "5 565 BROWN     IL    0.018  5836     324.2222   5264     547     14           \n",
       "  popasian ... percollege percprof poppovertyknown percpovertyknown\n",
       "1 249      ... 19.63139   4.355859 63628           96.27478        \n",
       "2  48      ... 11.24331   2.870315 10529           99.08714        \n",
       "3  16      ... 17.03382   4.488572 14235           94.95697        \n",
       "4 150      ... 17.27895   4.197800 30337           98.47757        \n",
       "5   5      ... 14.47600   3.367680  4815           82.50514        \n",
       "  percbelowpoverty percchildbelowpovert percadultpoverty percelderlypoverty\n",
       "1 13.151443        18.01172             11.009776        12.443812         \n",
       "2 32.244278        45.82651             27.385647        25.228976         \n",
       "3 12.068844        14.03606             10.852090        12.697410         \n",
       "4  7.209019        11.17954              5.536013         6.217047         \n",
       "5 13.520249        13.02289             11.143211        19.200000         \n",
       "  inmetro category\n",
       "1 0       AAR     \n",
       "2 0       LHR     \n",
       "3 0       AAR     \n",
       "4 1       ALU     \n",
       "5 0       AAR     "
      ]
     },
     "metadata": {},
     "output_type": "display_data"
    },
    {
     "data": {
      "text/html": [
       "<ol class=list-inline>\n",
       "\t<li>'PID'</li>\n",
       "\t<li>'county'</li>\n",
       "\t<li>'state'</li>\n",
       "\t<li>'area'</li>\n",
       "\t<li>'poptotal'</li>\n",
       "\t<li>'popdensity'</li>\n",
       "\t<li>'popwhite'</li>\n",
       "\t<li>'popblack'</li>\n",
       "\t<li>'popamerindian'</li>\n",
       "\t<li>'popasian'</li>\n",
       "\t<li>'popother'</li>\n",
       "\t<li>'percwhite'</li>\n",
       "\t<li>'percblack'</li>\n",
       "\t<li>'percamerindan'</li>\n",
       "\t<li>'percasian'</li>\n",
       "\t<li>'percother'</li>\n",
       "\t<li>'popadults'</li>\n",
       "\t<li>'perchsd'</li>\n",
       "\t<li>'percollege'</li>\n",
       "\t<li>'percprof'</li>\n",
       "\t<li>'poppovertyknown'</li>\n",
       "\t<li>'percpovertyknown'</li>\n",
       "\t<li>'percbelowpoverty'</li>\n",
       "\t<li>'percchildbelowpovert'</li>\n",
       "\t<li>'percadultpoverty'</li>\n",
       "\t<li>'percelderlypoverty'</li>\n",
       "\t<li>'inmetro'</li>\n",
       "\t<li>'category'</li>\n",
       "</ol>\n"
      ],
      "text/latex": [
       "\\begin{enumerate*}\n",
       "\\item 'PID'\n",
       "\\item 'county'\n",
       "\\item 'state'\n",
       "\\item 'area'\n",
       "\\item 'poptotal'\n",
       "\\item 'popdensity'\n",
       "\\item 'popwhite'\n",
       "\\item 'popblack'\n",
       "\\item 'popamerindian'\n",
       "\\item 'popasian'\n",
       "\\item 'popother'\n",
       "\\item 'percwhite'\n",
       "\\item 'percblack'\n",
       "\\item 'percamerindan'\n",
       "\\item 'percasian'\n",
       "\\item 'percother'\n",
       "\\item 'popadults'\n",
       "\\item 'perchsd'\n",
       "\\item 'percollege'\n",
       "\\item 'percprof'\n",
       "\\item 'poppovertyknown'\n",
       "\\item 'percpovertyknown'\n",
       "\\item 'percbelowpoverty'\n",
       "\\item 'percchildbelowpovert'\n",
       "\\item 'percadultpoverty'\n",
       "\\item 'percelderlypoverty'\n",
       "\\item 'inmetro'\n",
       "\\item 'category'\n",
       "\\end{enumerate*}\n"
      ],
      "text/markdown": [
       "1. 'PID'\n",
       "2. 'county'\n",
       "3. 'state'\n",
       "4. 'area'\n",
       "5. 'poptotal'\n",
       "6. 'popdensity'\n",
       "7. 'popwhite'\n",
       "8. 'popblack'\n",
       "9. 'popamerindian'\n",
       "10. 'popasian'\n",
       "11. 'popother'\n",
       "12. 'percwhite'\n",
       "13. 'percblack'\n",
       "14. 'percamerindan'\n",
       "15. 'percasian'\n",
       "16. 'percother'\n",
       "17. 'popadults'\n",
       "18. 'perchsd'\n",
       "19. 'percollege'\n",
       "20. 'percprof'\n",
       "21. 'poppovertyknown'\n",
       "22. 'percpovertyknown'\n",
       "23. 'percbelowpoverty'\n",
       "24. 'percchildbelowpovert'\n",
       "25. 'percadultpoverty'\n",
       "26. 'percelderlypoverty'\n",
       "27. 'inmetro'\n",
       "28. 'category'\n",
       "\n",
       "\n"
      ],
      "text/plain": [
       " [1] \"PID\"                  \"county\"               \"state\"               \n",
       " [4] \"area\"                 \"poptotal\"             \"popdensity\"          \n",
       " [7] \"popwhite\"             \"popblack\"             \"popamerindian\"       \n",
       "[10] \"popasian\"             \"popother\"             \"percwhite\"           \n",
       "[13] \"percblack\"            \"percamerindan\"        \"percasian\"           \n",
       "[16] \"percother\"            \"popadults\"            \"perchsd\"             \n",
       "[19] \"percollege\"           \"percprof\"             \"poppovertyknown\"     \n",
       "[22] \"percpovertyknown\"     \"percbelowpoverty\"     \"percchildbelowpovert\"\n",
       "[25] \"percadultpoverty\"     \"percelderlypoverty\"   \"inmetro\"             \n",
       "[28] \"category\"            "
      ]
     },
     "metadata": {},
     "output_type": "display_data"
    }
   ],
   "source": [
    "data('midwest')\n",
    "head(midwest,5)\n",
    "colnames(x = midwest)"
   ]
  },
  {
   "cell_type": "code",
   "execution_count": 9,
   "id": "7c3eb906",
   "metadata": {},
   "outputs": [
    {
     "data": {
      "text/html": [
       "<table>\n",
       "<thead><tr><th scope=col>percasian</th><th scope=col>percother</th><th scope=col>perchsd</th><th scope=col>percollege</th><th scope=col>percprof</th></tr></thead>\n",
       "<tbody>\n",
       "\t<tr><td>0.37675897</td><td>0.18762294</td><td>75.10740  </td><td>19.63139  </td><td>4.355859  </td></tr>\n",
       "\t<tr><td>0.45172219</td><td>0.08469791</td><td>59.72635  </td><td>11.24331  </td><td>2.870315  </td></tr>\n",
       "\t<tr><td>0.10673071</td><td>0.22680275</td><td>69.33499  </td><td>17.03382  </td><td>4.488572  </td></tr>\n",
       "\t<tr><td>0.48691813</td><td>3.69733169</td><td>75.47219  </td><td>17.27895  </td><td>4.197800  </td></tr>\n",
       "\t<tr><td>0.08567512</td><td>0.10281014</td><td>68.86152  </td><td>14.47600  </td><td>3.367680  </td></tr>\n",
       "\t<tr><td>0.54640215</td><td>0.61925577</td><td>76.62941  </td><td>18.90462  </td><td>3.275891  </td></tr>\n",
       "</tbody>\n",
       "</table>\n"
      ],
      "text/latex": [
       "\\begin{tabular}{r|lllll}\n",
       " percasian & percother & perchsd & percollege & percprof\\\\\n",
       "\\hline\n",
       "\t 0.37675897 & 0.18762294 & 75.10740   & 19.63139   & 4.355859  \\\\\n",
       "\t 0.45172219 & 0.08469791 & 59.72635   & 11.24331   & 2.870315  \\\\\n",
       "\t 0.10673071 & 0.22680275 & 69.33499   & 17.03382   & 4.488572  \\\\\n",
       "\t 0.48691813 & 3.69733169 & 75.47219   & 17.27895   & 4.197800  \\\\\n",
       "\t 0.08567512 & 0.10281014 & 68.86152   & 14.47600   & 3.367680  \\\\\n",
       "\t 0.54640215 & 0.61925577 & 76.62941   & 18.90462   & 3.275891  \\\\\n",
       "\\end{tabular}\n"
      ],
      "text/markdown": [
       "\n",
       "| percasian | percother | perchsd | percollege | percprof |\n",
       "|---|---|---|---|---|\n",
       "| 0.37675897 | 0.18762294 | 75.10740   | 19.63139   | 4.355859   |\n",
       "| 0.45172219 | 0.08469791 | 59.72635   | 11.24331   | 2.870315   |\n",
       "| 0.10673071 | 0.22680275 | 69.33499   | 17.03382   | 4.488572   |\n",
       "| 0.48691813 | 3.69733169 | 75.47219   | 17.27895   | 4.197800   |\n",
       "| 0.08567512 | 0.10281014 | 68.86152   | 14.47600   | 3.367680   |\n",
       "| 0.54640215 | 0.61925577 | 76.62941   | 18.90462   | 3.275891   |\n",
       "\n"
      ],
      "text/plain": [
       "  percasian  percother  perchsd  percollege percprof\n",
       "1 0.37675897 0.18762294 75.10740 19.63139   4.355859\n",
       "2 0.45172219 0.08469791 59.72635 11.24331   2.870315\n",
       "3 0.10673071 0.22680275 69.33499 17.03382   4.488572\n",
       "4 0.48691813 3.69733169 75.47219 17.27895   4.197800\n",
       "5 0.08567512 0.10281014 68.86152 14.47600   3.367680\n",
       "6 0.54640215 0.61925577 76.62941 18.90462   3.275891"
      ]
     },
     "metadata": {},
     "output_type": "display_data"
    }
   ],
   "source": [
    "df=select(midwest,percasian,percother,perchsd,percollege,percprof)\n",
    "head(df)"
   ]
  },
  {
   "cell_type": "code",
   "execution_count": 10,
   "id": "290671d7",
   "metadata": {},
   "outputs": [
    {
     "data": {
      "text/html": [
       "<table>\n",
       "<thead><tr><th></th><th scope=col>percasian</th><th scope=col>percother</th><th scope=col>perchsd</th><th scope=col>percollege</th><th scope=col>percprof</th></tr></thead>\n",
       "<tbody>\n",
       "\t<tr><th scope=row>percasian</th><td>1.0000000</td><td>0.3092782</td><td>0.4735671</td><td>0.7519103</td><td>0.7933508</td></tr>\n",
       "\t<tr><th scope=row>percother</th><td>0.3092782</td><td>1.0000000</td><td>0.2140580</td><td>0.2416792</td><td>0.1966477</td></tr>\n",
       "\t<tr><th scope=row>perchsd</th><td>0.4735671</td><td>0.2140580</td><td>1.0000000</td><td>0.7769244</td><td>0.6295372</td></tr>\n",
       "\t<tr><th scope=row>percollege</th><td>0.7519103</td><td>0.2416792</td><td>0.7769244</td><td>1.0000000</td><td>0.8874784</td></tr>\n",
       "\t<tr><th scope=row>percprof</th><td>0.7933508</td><td>0.1966477</td><td>0.6295372</td><td>0.8874784</td><td>1.0000000</td></tr>\n",
       "</tbody>\n",
       "</table>\n"
      ],
      "text/latex": [
       "\\begin{tabular}{r|lllll}\n",
       "  & percasian & percother & perchsd & percollege & percprof\\\\\n",
       "\\hline\n",
       "\tpercasian & 1.0000000 & 0.3092782 & 0.4735671 & 0.7519103 & 0.7933508\\\\\n",
       "\tpercother & 0.3092782 & 1.0000000 & 0.2140580 & 0.2416792 & 0.1966477\\\\\n",
       "\tperchsd & 0.4735671 & 0.2140580 & 1.0000000 & 0.7769244 & 0.6295372\\\\\n",
       "\tpercollege & 0.7519103 & 0.2416792 & 0.7769244 & 1.0000000 & 0.8874784\\\\\n",
       "\tpercprof & 0.7933508 & 0.1966477 & 0.6295372 & 0.8874784 & 1.0000000\\\\\n",
       "\\end{tabular}\n"
      ],
      "text/markdown": [
       "\n",
       "| <!--/--> | percasian | percother | perchsd | percollege | percprof |\n",
       "|---|---|---|---|---|---|\n",
       "| percasian | 1.0000000 | 0.3092782 | 0.4735671 | 0.7519103 | 0.7933508 |\n",
       "| percother | 0.3092782 | 1.0000000 | 0.2140580 | 0.2416792 | 0.1966477 |\n",
       "| perchsd | 0.4735671 | 0.2140580 | 1.0000000 | 0.7769244 | 0.6295372 |\n",
       "| percollege | 0.7519103 | 0.2416792 | 0.7769244 | 1.0000000 | 0.8874784 |\n",
       "| percprof | 0.7933508 | 0.1966477 | 0.6295372 | 0.8874784 | 1.0000000 |\n",
       "\n"
      ],
      "text/plain": [
       "           percasian percother perchsd   percollege percprof \n",
       "percasian  1.0000000 0.3092782 0.4735671 0.7519103  0.7933508\n",
       "percother  0.3092782 1.0000000 0.2140580 0.2416792  0.1966477\n",
       "perchsd    0.4735671 0.2140580 1.0000000 0.7769244  0.6295372\n",
       "percollege 0.7519103 0.2416792 0.7769244 1.0000000  0.8874784\n",
       "percprof   0.7933508 0.1966477 0.6295372 0.8874784  1.0000000"
      ]
     },
     "metadata": {},
     "output_type": "display_data"
    }
   ],
   "source": [
    "cor_mat=cor(df)\n",
    "cor_mat"
   ]
  },
  {
   "cell_type": "code",
   "execution_count": 11,
   "id": "da8c6718",
   "metadata": {},
   "outputs": [
    {
     "data": {
      "text/html": [
       "<table>\n",
       "<thead><tr><th></th><th scope=col>percasian</th><th scope=col>percother</th><th scope=col>perchsd</th><th scope=col>percollege</th><th scope=col>percprof</th></tr></thead>\n",
       "<tbody>\n",
       "\t<tr><th scope=row>percasian</th><td>1.0000000</td><td>       NA</td><td>       NA</td><td>       NA</td><td>NA       </td></tr>\n",
       "\t<tr><th scope=row>percother</th><td>0.3092782</td><td>1.0000000</td><td>       NA</td><td>       NA</td><td>NA       </td></tr>\n",
       "\t<tr><th scope=row>perchsd</th><td>0.4735671</td><td>0.2140580</td><td>1.0000000</td><td>       NA</td><td>NA       </td></tr>\n",
       "\t<tr><th scope=row>percollege</th><td>0.7519103</td><td>0.2416792</td><td>0.7769244</td><td>1.0000000</td><td>NA       </td></tr>\n",
       "\t<tr><th scope=row>percprof</th><td>0.7933508</td><td>0.1966477</td><td>0.6295372</td><td>0.8874784</td><td> 1       </td></tr>\n",
       "</tbody>\n",
       "</table>\n"
      ],
      "text/latex": [
       "\\begin{tabular}{r|lllll}\n",
       "  & percasian & percother & perchsd & percollege & percprof\\\\\n",
       "\\hline\n",
       "\tpercasian & 1.0000000 &        NA &        NA &        NA & NA       \\\\\n",
       "\tpercother & 0.3092782 & 1.0000000 &        NA &        NA & NA       \\\\\n",
       "\tperchsd & 0.4735671 & 0.2140580 & 1.0000000 &        NA & NA       \\\\\n",
       "\tpercollege & 0.7519103 & 0.2416792 & 0.7769244 & 1.0000000 & NA       \\\\\n",
       "\tpercprof & 0.7933508 & 0.1966477 & 0.6295372 & 0.8874784 &  1       \\\\\n",
       "\\end{tabular}\n"
      ],
      "text/markdown": [
       "\n",
       "| <!--/--> | percasian | percother | perchsd | percollege | percprof |\n",
       "|---|---|---|---|---|---|\n",
       "| percasian | 1.0000000 |        NA |        NA |        NA | NA        |\n",
       "| percother | 0.3092782 | 1.0000000 |        NA |        NA | NA        |\n",
       "| perchsd | 0.4735671 | 0.2140580 | 1.0000000 |        NA | NA        |\n",
       "| percollege | 0.7519103 | 0.2416792 | 0.7769244 | 1.0000000 | NA        |\n",
       "| percprof | 0.7933508 | 0.1966477 | 0.6295372 | 0.8874784 |  1        |\n",
       "\n"
      ],
      "text/plain": [
       "           percasian percother perchsd   percollege percprof\n",
       "percasian  1.0000000        NA        NA        NA  NA      \n",
       "percother  0.3092782 1.0000000        NA        NA  NA      \n",
       "perchsd    0.4735671 0.2140580 1.0000000        NA  NA      \n",
       "percollege 0.7519103 0.2416792 0.7769244 1.0000000  NA      \n",
       "percprof   0.7933508 0.1966477 0.6295372 0.8874784   1      "
      ]
     },
     "metadata": {},
     "output_type": "display_data"
    }
   ],
   "source": [
    "get_upper_tri = function(matrix){\n",
    "    #Assign Null values to mirror image of matrix\n",
    "    matrix[upper.tri(matrix)] = NA\n",
    "    return(matrix)\n",
    "  }\n",
    "\n",
    "cor_mat = get_upper_tri(cor_mat)\n",
    "cor_mat"
   ]
  },
  {
   "cell_type": "code",
   "execution_count": 12,
   "id": "d511c215",
   "metadata": {},
   "outputs": [
    {
     "data": {
      "text/html": [
       "<table>\n",
       "<thead><tr><th></th><th scope=col>Var1</th><th scope=col>Var2</th><th scope=col>value</th></tr></thead>\n",
       "<tbody>\n",
       "\t<tr><th scope=row>1</th><td>percasian </td><td>percasian </td><td>1.00      </td></tr>\n",
       "\t<tr><th scope=row>2</th><td>percother </td><td>percasian </td><td>0.31      </td></tr>\n",
       "\t<tr><th scope=row>3</th><td>perchsd   </td><td>percasian </td><td>0.47      </td></tr>\n",
       "\t<tr><th scope=row>4</th><td>percollege</td><td>percasian </td><td>0.75      </td></tr>\n",
       "\t<tr><th scope=row>5</th><td>percprof  </td><td>percasian </td><td>0.79      </td></tr>\n",
       "\t<tr><th scope=row>7</th><td>percother </td><td>percother </td><td>1.00      </td></tr>\n",
       "</tbody>\n",
       "</table>\n"
      ],
      "text/latex": [
       "\\begin{tabular}{r|lll}\n",
       "  & Var1 & Var2 & value\\\\\n",
       "\\hline\n",
       "\t1 & percasian  & percasian  & 1.00      \\\\\n",
       "\t2 & percother  & percasian  & 0.31      \\\\\n",
       "\t3 & perchsd    & percasian  & 0.47      \\\\\n",
       "\t4 & percollege & percasian  & 0.75      \\\\\n",
       "\t5 & percprof   & percasian  & 0.79      \\\\\n",
       "\t7 & percother  & percother  & 1.00      \\\\\n",
       "\\end{tabular}\n"
      ],
      "text/markdown": [
       "\n",
       "| <!--/--> | Var1 | Var2 | value |\n",
       "|---|---|---|---|\n",
       "| 1 | percasian  | percasian  | 1.00       |\n",
       "| 2 | percother  | percasian  | 0.31       |\n",
       "| 3 | perchsd    | percasian  | 0.47       |\n",
       "| 4 | percollege | percasian  | 0.75       |\n",
       "| 5 | percprof   | percasian  | 0.79       |\n",
       "| 7 | percother  | percother  | 1.00       |\n",
       "\n"
      ],
      "text/plain": [
       "  Var1       Var2      value\n",
       "1 percasian  percasian 1.00 \n",
       "2 percother  percasian 0.31 \n",
       "3 perchsd    percasian 0.47 \n",
       "4 percollege percasian 0.75 \n",
       "5 percprof   percasian 0.79 \n",
       "7 percother  percother 1.00 "
      ]
     },
     "metadata": {},
     "output_type": "display_data"
    }
   ],
   "source": [
    "library(reshape2)\n",
    "melted_cor_mat = melt(round(cor_mat,2), na.rm = TRUE)\n",
    "head(melted_cor_mat, 6)"
   ]
  },
  {
   "cell_type": "code",
   "execution_count": 13,
   "id": "e3d9be95",
   "metadata": {},
   "outputs": [
    {
     "data": {
      "image/png": "[encoded data removed]",
      "text/plain": [
       "plot without title"
      ]
     },
     "metadata": {},
     "output_type": "display_data"
    }
   ],
   "source": [
    "options(repr.plot.width = 5, repr.plot.height = 4)\n",
    "ggplot(data = melted_cor_mat, aes(Var1, Var2, fill = value)) + \n",
    "geom_tile() + \n",
    "scale_fill_gradientn(colours = c(\"steelblue2\", \"hotpink\"), name = \"Pearson's\\nCorrelation\") + \n",
    "theme_minimal() + \n",
    "geom_text(aes(Var1, Var2, label = value), color = \"black\", size = 2.5) +\n",
    "theme(\n",
    "  axis.title.x = element_blank(),\n",
    "  axis.title.y = element_blank(),\n",
    "  panel.grid.major = element_blank(),\n",
    "  panel.border = element_blank(),\n",
    "  panel.background = element_blank(),\n",
    "  axis.ticks = element_blank())"
   ]
  }
 ],
 "metadata": {
  "kernelspec": {
   "display_name": "R",
   "language": "R",
   "name": "ir"
  },
  "language_info": {
   "codemirror_mode": "r",
   "file_extension": ".r",
   "mimetype": "text/x-r-source",
   "name": "R",
   "pygments_lexer": "r",
   "version": "3.6.1"
  }
 },
 "nbformat": 4,
 "nbformat_minor": 5
}
