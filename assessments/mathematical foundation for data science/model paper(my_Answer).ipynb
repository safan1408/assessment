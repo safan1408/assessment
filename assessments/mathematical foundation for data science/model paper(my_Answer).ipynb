{
 "cells": [
  {
   "cell_type": "markdown",
   "id": "13626ed6",
   "metadata": {},
   "source": [
    "# Q1"
   ]
  },
  {
   "cell_type": "code",
   "execution_count": 1,
   "id": "109b3caf",
   "metadata": {},
   "outputs": [],
   "source": [
    "import numpy as np"
   ]
  },
  {
   "cell_type": "markdown",
   "id": "9e0905b3",
   "metadata": {},
   "source": [
    "a)i"
   ]
  },
  {
   "cell_type": "code",
   "execution_count": 2,
   "id": "89e50158",
   "metadata": {},
   "outputs": [
    {
     "data": {
      "text/plain": [
       "matrix([[ 1,  2,  3,  4, 56],\n",
       "        [ 1, 34,  4,  1,  4],\n",
       "        [ 5,  1,  4, 56,  2],\n",
       "        [ 4,  2,  4,  5, 67]])"
      ]
     },
     "execution_count": 2,
     "metadata": {},
     "output_type": "execute_result"
    }
   ],
   "source": [
    "a=np.matrix('1 2 3 4 56;1 34 4 1 4;5 1 4 56 2;4 2 4 5 67')\n",
    "a"
   ]
  },
  {
   "cell_type": "markdown",
   "id": "6480ad12",
   "metadata": {},
   "source": [
    "a)ii"
   ]
  },
  {
   "cell_type": "code",
   "execution_count": 3,
   "id": "2275a0d7",
   "metadata": {},
   "outputs": [
    {
     "data": {
      "text/plain": [
       "matrix([[ 1,  2,  3,  4, 56]])"
      ]
     },
     "execution_count": 3,
     "metadata": {},
     "output_type": "execute_result"
    }
   ],
   "source": [
    "a[0,:]"
   ]
  },
  {
   "cell_type": "markdown",
   "id": "dde3e3fa",
   "metadata": {},
   "source": [
    "a)iii"
   ]
  },
  {
   "cell_type": "code",
   "execution_count": 4,
   "id": "04183cac",
   "metadata": {},
   "outputs": [
    {
     "data": {
      "text/plain": [
       "matrix([[56],\n",
       "        [ 4],\n",
       "        [ 2],\n",
       "        [67]])"
      ]
     },
     "execution_count": 4,
     "metadata": {},
     "output_type": "execute_result"
    }
   ],
   "source": [
    "a[:,4]"
   ]
  },
  {
   "cell_type": "markdown",
   "id": "5e5f17e3",
   "metadata": {},
   "source": [
    "a)iv"
   ]
  },
  {
   "cell_type": "code",
   "execution_count": 5,
   "id": "d5285443",
   "metadata": {},
   "outputs": [
    {
     "data": {
      "text/plain": [
       "56"
      ]
     },
     "execution_count": 5,
     "metadata": {},
     "output_type": "execute_result"
    }
   ],
   "source": [
    "a[2,3]"
   ]
  },
  {
   "cell_type": "markdown",
   "id": "48bd309b",
   "metadata": {},
   "source": [
    "a)v"
   ]
  },
  {
   "cell_type": "code",
   "execution_count": 6,
   "id": "864ddc88",
   "metadata": {},
   "outputs": [
    {
     "data": {
      "text/plain": [
       "(4, 5)"
      ]
     },
     "execution_count": 6,
     "metadata": {},
     "output_type": "execute_result"
    }
   ],
   "source": [
    "a.shape"
   ]
  },
  {
   "cell_type": "markdown",
   "id": "e733cf9f",
   "metadata": {},
   "source": [
    "b)"
   ]
  },
  {
   "cell_type": "markdown",
   "id": "8e39f560",
   "metadata": {},
   "source": [
    "all matrix should be the same order"
   ]
  },
  {
   "cell_type": "markdown",
   "id": "568ab625",
   "metadata": {},
   "source": [
    "c)i"
   ]
  },
  {
   "cell_type": "code",
   "execution_count": 7,
   "id": "89a80778",
   "metadata": {},
   "outputs": [
    {
     "name": "stdout",
     "output_type": "stream",
     "text": [
      "[[ 7 30  7 35]\n",
      " [56  7 17  8]\n",
      " [26  7 26  8]]\n"
     ]
    }
   ],
   "source": [
    "a=np.matrix('1 2;3 1;3 1')\n",
    "b=np.matrix('4 1 4 2;1 3 1 1')\n",
    "c=np.matrix('1 23 1 31;43 1 4 1;13 1 13 1')\n",
    "print(a*b+c)"
   ]
  },
  {
   "cell_type": "markdown",
   "id": "30a1f81e",
   "metadata": {},
   "source": [
    "c)ii"
   ]
  },
  {
   "cell_type": "code",
   "execution_count": 8,
   "id": "a89c3b92",
   "metadata": {},
   "outputs": [
    {
     "name": "stdout",
     "output_type": "stream",
     "text": [
      "[[ 9 27]\n",
      " [20 30]\n",
      " [26 36]]\n"
     ]
    }
   ],
   "source": [
    "a=np.matrix('1 3;4 2;2 4')\n",
    "b=np.matrix('1;2;3')\n",
    "c=np.matrix('1 2')\n",
    "d=np.matrix('1 2 3;4 3 2')\n",
    "e=np.matrix.transpose(d)\n",
    "print(a+4*((b*c)+e))"
   ]
  },
  {
   "cell_type": "markdown",
   "id": "f8d01876",
   "metadata": {},
   "source": [
    "# Q2"
   ]
  },
  {
   "cell_type": "code",
   "execution_count": 9,
   "id": "7f46c0d3",
   "metadata": {},
   "outputs": [
    {
     "data": {
      "text/plain": [
       "0.0"
      ]
     },
     "execution_count": 9,
     "metadata": {},
     "output_type": "execute_result"
    }
   ],
   "source": [
    "#a)i\n",
    "a=np.matrix('1 2 3;4 1 3;1 2 3;1 4 3')\n",
    "b=np.matrix('5 3 5 2;2 5 6 3;2 5 5 7')\n",
    "c=a*b\n",
    "np.linalg.det(c)"
   ]
  },
  {
   "cell_type": "code",
   "execution_count": 10,
   "id": "d032343a",
   "metadata": {},
   "outputs": [
    {
     "name": "stdout",
     "output_type": "stream",
     "text": [
      "[[   -360.   -4122.   -2466.    -216.]\n",
      " [   -720.   -9522.   -5562.    -504.]\n",
      " [  -8460. -120510.  -69606.   -6408.]]\n"
     ]
    }
   ],
   "source": [
    "#a)iii\n",
    "a=np.matrix('1 2 3;2 4 4;7 5 4')\n",
    "b=np.matrix('1 3;1 7;5 89')\n",
    "c=np.matrix('5 4 8 0;5 75 43 4')\n",
    "print(np.linalg.det(a)*(b*c))"
   ]
  },
  {
   "cell_type": "code",
   "execution_count": 11,
   "id": "718d04fa",
   "metadata": {},
   "outputs": [
    {
     "data": {
      "text/plain": [
       "-70980.00000000012"
      ]
     },
     "execution_count": 11,
     "metadata": {},
     "output_type": "execute_result"
    }
   ],
   "source": [
    "#a)ii\n",
    "a=np.matrix('12 2;1 2;2 2')\n",
    "b=np.matrix('1 3 1;3 1 4')\n",
    "c=np.matrix('1 7 8 ;6 7 5; 7 4 7')\n",
    "d=a*b+6*np.matrix.transpose(c)\n",
    "np.linalg.det(d)"
   ]
  },
  {
   "cell_type": "code",
   "execution_count": 12,
   "id": "c953eac9",
   "metadata": {},
   "outputs": [
    {
     "name": "stdout",
     "output_type": "stream",
     "text": [
      "[[ 57  42  61]\n",
      " [132  91 116]]\n"
     ]
    }
   ],
   "source": [
    "#b)i\n",
    "a=np.matrix('1 9 2;4 5 4;2 6 8')\n",
    "b=np.matrix('2 4;6 9;0 6')\n",
    "c=np.matrix('1 4 21;35 6 6')\n",
    "print(np.matrix.transpose(a*b)+c)"
   ]
  },
  {
   "cell_type": "code",
   "execution_count": 13,
   "id": "356f7791",
   "metadata": {},
   "outputs": [
    {
     "name": "stdout",
     "output_type": "stream",
     "text": [
      "[[  42 1191]\n",
      " [ 201 2046]\n",
      " [  90 2412]\n",
      " [  99 1827]]\n"
     ]
    }
   ],
   "source": [
    "#b)ii\n",
    "a=np.matrix('1 3;2 98')\n",
    "b=np.matrix('1 43 6 8;4 6 8 6')\n",
    "c=np.matrix('1 3 ;6 8;0 8;7 5')\n",
    "print(3*np.matrix.transpose(a*b)+3*c)"
   ]
  },
  {
   "cell_type": "code",
   "execution_count": 14,
   "id": "bb1e117b",
   "metadata": {},
   "outputs": [
    {
     "data": {
      "text/plain": [
       "matrix([[56, 70, 84],\n",
       "        [11, 23, 30]])"
      ]
     },
     "execution_count": 14,
     "metadata": {},
     "output_type": "execute_result"
    }
   ],
   "source": [
    "#b)iii\n",
    "a=np.matrix('1 2 3;6 7 8')\n",
    "b=np.matrix('1 8;9 0')\n",
    "c=np.matrix('1 3;5 7;9 6')\n",
    "d=np.matrix.transpose(a)\n",
    "np.matrix.transpose(d*b+c)"
   ]
  },
  {
   "cell_type": "markdown",
   "id": "850d9d1a",
   "metadata": {},
   "source": [
    "# Q3"
   ]
  },
  {
   "cell_type": "code",
   "execution_count": 15,
   "id": "f8a3ec2c",
   "metadata": {},
   "outputs": [
    {
     "data": {
      "text/plain": [
       "matrix([[-0.66666667,  0.58333333],\n",
       "        [ 0.55555556, -0.47222222]])"
      ]
     },
     "execution_count": 15,
     "metadata": {},
     "output_type": "execute_result"
    }
   ],
   "source": [
    "#a)i\n",
    "a=np.matrix('2 3 5;1 4 6')\n",
    "b=np.matrix('2 4 7;4 5 8')\n",
    "np.linalg.inv(a*np.matrix.transpose(b))"
   ]
  },
  {
   "cell_type": "code",
   "execution_count": 16,
   "id": "e8a3fc75",
   "metadata": {},
   "outputs": [
    {
     "data": {
      "text/plain": [
       "matrix([[ 75.        , 176.        , 273.        ],\n",
       "        [ 57.66666667, 125.16666667, 196.16666667],\n",
       "        [ 34.66666667,  77.66666667, 118.66666667]])"
      ]
     },
     "execution_count": 16,
     "metadata": {},
     "output_type": "execute_result"
    }
   ],
   "source": [
    "#a)ii\n",
    "a=np.matrix('1 3 5;2 4 6;1 2 0')\n",
    "b=np.matrix('1 2;3 4;5 6')\n",
    "c=np.matrix('3 2 1;4 3 2')\n",
    "np.matrix.transpose(np.linalg.inv(a)+7*b*c)"
   ]
  },
  {
   "cell_type": "code",
   "execution_count": 17,
   "id": "1d32ce0b",
   "metadata": {},
   "outputs": [
    {
     "data": {
      "text/plain": [
       "matrix([[0.00332226, 0.04983389],\n",
       "        [0.0730897 , 0.09634551]])"
      ]
     },
     "execution_count": 17,
     "metadata": {},
     "output_type": "execute_result"
    }
   ],
   "source": [
    "#a)iii\n",
    "a=np.matrix('1 3;4 5')\n",
    "b=np.matrix('1 2;3 5')\n",
    "np.linalg.inv(a+6*np.linalg.inv(b))"
   ]
  },
  {
   "cell_type": "code",
   "execution_count": 18,
   "id": "727fc69c",
   "metadata": {},
   "outputs": [
    {
     "name": "stdout",
     "output_type": "stream",
     "text": [
      "[[2.]\n",
      " [3.]\n",
      " [4.]]\n",
      "\n",
      " [[2.]\n",
      " [3.]\n",
      " [4.]]\n"
     ]
    }
   ],
   "source": [
    "#b)i\n",
    "a=np.matrix('2 3 0;0 1 1;1 1 -4')\n",
    "b=np.matrix('13;7;-11')\n",
    "print(np.linalg.inv(a)*b)#method 1\n",
    "print('\\n',np.linalg.solve(a,b))#method 2"
   ]
  },
  {
   "cell_type": "code",
   "execution_count": 19,
   "id": "bf999c46",
   "metadata": {},
   "outputs": [
    {
     "name": "stdout",
     "output_type": "stream",
     "text": [
      "[[1.]\n",
      " [2.]\n",
      " [3.]]\n",
      "\n",
      " [[1.]\n",
      " [2.]\n",
      " [3.]]\n"
     ]
    }
   ],
   "source": [
    "#b)ii\n",
    "a=np.matrix('1 1 0;1 0 1;1 3 -3')\n",
    "b=np.matrix('3;4;-2')\n",
    "print(np.linalg.inv(a)*b)#method 1\n",
    "print('\\n',np.linalg.solve(a,b))#method 2"
   ]
  },
  {
   "cell_type": "markdown",
   "id": "edf8732b",
   "metadata": {},
   "source": [
    "# Q4"
   ]
  },
  {
   "cell_type": "code",
   "execution_count": 24,
   "id": "9da9dc7f",
   "metadata": {},
   "outputs": [
    {
     "data": {
      "text/latex": [
       "$\\displaystyle 2 \\left(\\tan^{2}{\\left(x \\right)} + 1\\right) \\cos{\\left(\\tan{\\left(x \\right)} \\right)} + \\log{\\left(x \\right)} + 1$"
      ],
      "text/plain": [
       "2*(tan(x)**2 + 1)*cos(tan(x)) + log(x) + 1"
      ]
     },
     "execution_count": 24,
     "metadata": {},
     "output_type": "execute_result"
    }
   ],
   "source": [
    "#i\n",
    "import sympy as sym\n",
    "x=sym.Symbol('x')\n",
    "sym.diff(sym.log(4*x**x)  +2* sym.sin(sym.tan(x)),x)"
   ]
  },
  {
   "cell_type": "code",
   "execution_count": 26,
   "id": "aa88665d",
   "metadata": {},
   "outputs": [
    {
     "data": {
      "text/latex": [
       "$\\displaystyle \\frac{y{\\left(x \\right)} \\cos{\\left(x \\right)} \\cos{\\left(x y{\\left(x \\right)} \\right)} + \\log{\\left(\\cos{\\left(x \\right)} \\right)} \\sin{\\left(x \\right)} \\cos^{\\cos{\\left(x \\right)} + \\tan{\\left(y{\\left(x \\right)} \\right)} + 1}{\\left(x \\right)} + \\sin{\\left(x \\right)} \\cos^{\\cos{\\left(x \\right)} + \\tan{\\left(y{\\left(x \\right)} \\right)}}{\\left(x \\right)} \\tan{\\left(y{\\left(x \\right)} \\right)} + \\sin{\\left(x \\right)} \\cos^{\\cos{\\left(x \\right)} + \\tan{\\left(y{\\left(x \\right)} \\right)} + 1}{\\left(x \\right)}}{\\left(- x \\cos{\\left(x y{\\left(x \\right)} \\right)} + \\log{\\left(\\cos{\\left(x \\right)} \\right)} \\cos^{\\cos{\\left(x \\right)} + \\tan{\\left(y{\\left(x \\right)} \\right)}}{\\left(x \\right)} \\tan^{2}{\\left(y{\\left(x \\right)} \\right)} + \\log{\\left(\\cos{\\left(x \\right)} \\right)} \\cos^{\\cos{\\left(x \\right)} + \\tan{\\left(y{\\left(x \\right)} \\right)}}{\\left(x \\right)}\\right) \\cos{\\left(x \\right)}}$"
      ],
      "text/plain": [
       "(y(x)*cos(x)*cos(x*y(x)) + log(cos(x))*sin(x)*cos(x)**(cos(x) + tan(y(x)) + 1) + sin(x)*cos(x)**(cos(x) + tan(y(x)))*tan(y(x)) + sin(x)*cos(x)**(cos(x) + tan(y(x)) + 1))/((-x*cos(x*y(x)) + log(cos(x))*cos(x)**(cos(x) + tan(y(x)))*tan(y(x))**2 + log(cos(x))*cos(x)**(cos(x) + tan(y(x))))*cos(x))"
      ]
     },
     "execution_count": 26,
     "metadata": {},
     "output_type": "execute_result"
    }
   ],
   "source": [
    "#ii\n",
    "import sympy as sym\n",
    "x=sym.Symbol('x')\n",
    "y=sym.Function('y')(x)\n",
    "sym.idiff(sym.sin(x*y)-(sym.cos(x))**(sym.cos(x)+sym.tan(y)),y,x)"
   ]
  },
  {
   "cell_type": "code",
   "execution_count": 27,
   "id": "8cc2e122",
   "metadata": {},
   "outputs": [
    {
     "data": {
      "text/latex": [
       "$\\displaystyle \\left(1 + \\tan^{2}{\\left(1 \\right)}\\right) \\cos{\\left(\\sin{\\left(\\tan{\\left(1 \\right)} \\right)} \\right)} \\cos{\\left(\\tan{\\left(1 \\right)} \\right)} + \\frac{1 + \\tan^{2}{\\left(1 \\right)}}{\\tan{\\left(1 \\right)}}$"
      ],
      "text/plain": [
       "(1 + tan(1)**2)*cos(sin(tan(1)))*cos(tan(1)) + (1 + tan(1)**2)/tan(1)"
      ]
     },
     "execution_count": 27,
     "metadata": {},
     "output_type": "execute_result"
    }
   ],
   "source": [
    "#iii\n",
    "import sympy as sym\n",
    "x=sym.Symbol('x')\n",
    "sym.diff(sym.log(sym.tan(x)) +sym.sin(sym.sin(sym.tan(x))),x).subs(x,1)"
   ]
  },
  {
   "cell_type": "code",
   "execution_count": 28,
   "id": "2f8cf18c",
   "metadata": {},
   "outputs": [
    {
     "data": {
      "text/plain": [
       "[{y(1): 1/(1 + E)}]"
      ]
     },
     "execution_count": 28,
     "metadata": {},
     "output_type": "execute_result"
    }
   ],
   "source": [
    "#iv\n",
    "import sympy as sym\n",
    "x=sym.Symbol('x')\n",
    "y=sym.Function('y')(x)\n",
    "sym.solve((x*y +y*sym.exp(x)-x**(y*sym.exp(x))).subs(x,1))\n"
   ]
  },
  {
   "cell_type": "code",
   "execution_count": 35,
   "id": "937ab59b",
   "metadata": {},
   "outputs": [
    {
     "data": {
      "text/latex": [
       "$\\displaystyle 0$"
      ],
      "text/plain": [
       "0"
      ]
     },
     "execution_count": 35,
     "metadata": {},
     "output_type": "execute_result"
    }
   ],
   "source": [
    "sym.idiff(x*y +y*sym.exp(x)-x**(y*sym.exp(x)),y,x).subs(y,1/(10**100000)).subs(x,1)"
   ]
  },
  {
   "cell_type": "code",
   "execution_count": 41,
   "id": "0560ffb3",
   "metadata": {},
   "outputs": [
    {
     "data": {
      "text/latex": [
       "$\\displaystyle - \\frac{0.909090909090909}{1 + e}$"
      ],
      "text/plain": [
       "-0.909090909090909/(1 + E)"
      ]
     },
     "execution_count": 41,
     "metadata": {},
     "output_type": "execute_result"
    }
   ],
   "source": [
    "import sympy as sym\n",
    "x=sym.Symbol('x')\n",
    "y=sym.Function('y')(x)\n",
    "sym.idiff(x*y +y*sym.exp(x)-x**(y*sym.exp(x)),y,x).subs(y,1/1.1).subs(x,1)\n",
    "\n"
   ]
  },
  {
   "cell_type": "code",
   "execution_count": 45,
   "id": "8b50f186",
   "metadata": {},
   "outputs": [
    {
     "data": {
      "text/latex": [
       "$\\displaystyle 10 x \\sin{\\left(y \\right)}$"
      ],
      "text/plain": [
       "10*x*sin(y)"
      ]
     },
     "execution_count": 45,
     "metadata": {},
     "output_type": "execute_result"
    }
   ],
   "source": [
    "#v\n",
    "import sympy as sym\n",
    "x,y=sym.symbols('x,y')\n",
    "\n",
    "sym.diff(5*x**2*sym.sin(y),x)"
   ]
  },
  {
   "cell_type": "code",
   "execution_count": 9,
   "id": "8c402e34",
   "metadata": {},
   "outputs": [
    {
     "data": {
      "text/latex": [
       "$\\displaystyle - y^{2} + y \\frac{\\partial}{\\partial x} f{\\left(x,y \\right)}$"
      ],
      "text/plain": [
       "-y**2 + y*Derivative(f(x, y), x)"
      ]
     },
     "execution_count": 9,
     "metadata": {},
     "output_type": "execute_result"
    }
   ],
   "source": [
    "#vi\n",
    "import sympy as sym\n",
    "x,y=sym.symbols('x,y')\n",
    "f=sym.Function('f')(x,y)\n",
    "sym.diff(y*f-x*y**2+sym.sin(y),x)\n"
   ]
  },
  {
   "cell_type": "markdown",
   "id": "e812fce8",
   "metadata": {},
   "source": [
    "# Q5"
   ]
  },
  {
   "cell_type": "code",
   "execution_count": 48,
   "id": "1912292e",
   "metadata": {},
   "outputs": [
    {
     "data": {
      "image/png": "[encoded data removed]",
      "text/plain": [
       "<Figure size 432x288 with 1 Axes>"
      ]
     },
     "metadata": {
      "needs_background": "light"
     },
     "output_type": "display_data"
    }
   ],
   "source": [
    "#i\n",
    "import numpy as np\n",
    "import pylab as py\n",
    "x=np.linspace(-1,5,100)\n",
    "y=np.cos(x)\n",
    "py.plot(x,y)\n",
    "py.show()"
   ]
  },
  {
   "cell_type": "code",
   "execution_count": 36,
   "id": "5c77a133",
   "metadata": {},
   "outputs": [
    {
     "name": "stdout",
     "output_type": "stream",
     "text": [
      "Optimization terminated successfully.\n",
      "         Current function value: -1.000000\n",
      "         Iterations: 16\n",
      "         Function evaluations: 32\n",
      "maximum point in cos(x)is  [4.4408921e-16] \n",
      " \n",
      "\n",
      "Optimization terminated successfully.\n",
      "         Current function value: -1.000000\n",
      "         Iterations: 19\n",
      "         Function evaluations: 38\n",
      "minimum point in cos(x)is  [3.14160156]\n"
     ]
    }
   ],
   "source": [
    "#ii\n",
    "#local maxima\n",
    "from scipy import optimize\n",
    "def f(x):\n",
    "    return -1*np.cos(x)\n",
    "max_x=optimize.fmin(f,-0.5)\n",
    "print('maximum point in cos(x)is ',max_x,'\\n','\\n')\n",
    "\n",
    "#local minima\n",
    "from scipy import optimize\n",
    "def f(x):\n",
    "    return np.cos(x)\n",
    "max_x=optimize.fmin(f,1)\n",
    "print('minimum point in cos(x)is ',max_x)"
   ]
  },
  {
   "cell_type": "code",
   "execution_count": 37,
   "id": "36838b81",
   "metadata": {},
   "outputs": [
    {
     "name": "stdout",
     "output_type": "stream",
     "text": [
      "global maximum point in cos(x)is  [-2.22044605e-16]\n"
     ]
    }
   ],
   "source": [
    "#iii\n",
    "from scipy import optimize\n",
    "def f(x):\n",
    "    return -1*np.cos(x)\n",
    "grid=(-1,5,0.1)\n",
    "max_x=optimize.brute(f,(grid,))\n",
    "print('global maximum point in cos(x)is ',max_x)"
   ]
  },
  {
   "cell_type": "markdown",
   "id": "8067deeb",
   "metadata": {},
   "source": [
    "# Q6"
   ]
  },
  {
   "cell_type": "code",
   "execution_count": 38,
   "id": "a39f29c7",
   "metadata": {},
   "outputs": [
    {
     "data": {
      "text/latex": [
       "$\\displaystyle - x^{3} \\cos{\\left(x \\right)} + 3 x^{2} \\sin{\\left(x \\right)} + 6 x \\cos{\\left(x \\right)} + \\frac{e^{x} \\sin{\\left(x \\right)}}{2} + \\frac{e^{x} \\cos{\\left(x \\right)}}{2} - 6 \\sin{\\left(x \\right)}$"
      ],
      "text/plain": [
       "-x**3*cos(x) + 3*x**2*sin(x) + 6*x*cos(x) + exp(x)*sin(x)/2 + exp(x)*cos(x)/2 - 6*sin(x)"
      ]
     },
     "execution_count": 38,
     "metadata": {},
     "output_type": "execute_result"
    }
   ],
   "source": [
    "#i\n",
    "import sympy as sym\n",
    "x=sym.Symbol('x')\n",
    "sym.integrate(x**3*sym.sin(x)+sym.exp(x)*sym.cos(x),x)"
   ]
  },
  {
   "cell_type": "code",
   "execution_count": 39,
   "id": "300fb0f6",
   "metadata": {},
   "outputs": [
    {
     "data": {
      "text/latex": [
       "$\\displaystyle 95 \\sin{\\left(5 \\right)} + 4 \\cos{\\left(1 \\right)} + 5 \\sin{\\left(1 \\right)} + 2 e + 68 \\cos{\\left(5 \\right)} + 74 e^{5}$"
      ],
      "text/plain": [
       "95*sin(5) + 4*cos(1) + 5*sin(1) + 2*E + 68*cos(5) + 74*exp(5)"
      ]
     },
     "execution_count": 39,
     "metadata": {},
     "output_type": "execute_result"
    }
   ],
   "source": [
    "#ii(analitically)\n",
    "import sympy as sym\n",
    "x=sym.Symbol('x')\n",
    "sym.integrate(x**3*sym.exp(x) +x**3*sym.cos(x) +sym.sin(x),(x,1,5))"
   ]
  },
  {
   "cell_type": "code",
   "execution_count": 40,
   "id": "4b606dca",
   "metadata": {},
   "outputs": [
    {
     "name": "stdout",
     "output_type": "stream",
     "text": [
      "(2454.714300634084, 2.7252803354405985e-11)\n",
      "integral is 2454.714300634084\n",
      "Error is 2.7252803354405985e-11\n"
     ]
    }
   ],
   "source": [
    "#iii (numeriaclly)\n",
    "from scipy import integrate as inte\n",
    "def f(x):\n",
    "    return x**3*sym.cos(x)+x**2*sym.exp(x)+sym.sin(x)*sym.cos(x)\n",
    "output=inte.quad(f,1,5)\n",
    "print(output)\n",
    "print('integral is',output[0])\n",
    "print('Error is',output[1])"
   ]
  },
  {
   "cell_type": "code",
   "execution_count": 41,
   "id": "48b2e503",
   "metadata": {},
   "outputs": [
    {
     "data": {
      "image/png": "[encoded data removed]",
      "text/latex": [
       "$\\displaystyle \\left[ y{\\left(x \\right)} = - \\sqrt{2} \\sqrt{C_{1} + x e^{x} - e^{x}}, \\  y{\\left(x \\right)} = \\sqrt{2} \\sqrt{C_{1} + x e^{x} - e^{x}}\\right]$"
      ],
      "text/plain": [
       "⎡              ________________               ________________⎤\n",
       "⎢             ╱         x    x               ╱         x    x ⎥\n",
       "⎣y(x) = -√2⋅╲╱  C₁ + x⋅ℯ  - ℯ  , y(x) = √2⋅╲╱  C₁ + x⋅ℯ  - ℯ  ⎦"
      ]
     },
     "execution_count": 41,
     "metadata": {},
     "output_type": "execute_result"
    }
   ],
   "source": [
    "from sympy.interactive import printing\n",
    "printing.init_printing(use_latex = True)\n",
    "\n",
    "import sympy as sym\n",
    "x=sym.Symbol('x')\n",
    "y=sym.Function('y')(x)\n",
    "diffeq=sym.Eq((y*y.diff(x)/x),sym.exp(x))\n",
    "p=sym.dsolve(diffeq,y)\n",
    "p"
   ]
  },
  {
   "cell_type": "code",
   "execution_count": 42,
   "id": "86ff983a",
   "metadata": {},
   "outputs": [
    {
     "data": {
      "image/png": "[encoded data removed]",
      "text/latex": [
       "$\\displaystyle \\left[ y{\\left(x \\right)} = - \\sqrt{2} \\sqrt{- \\log{\\left(\\cos{\\left(x \\right)} \\right)}}, \\  y{\\left(x \\right)} = \\sqrt{2} \\sqrt{- \\log{\\left(\\cos{\\left(x \\right)} \\right)}}\\right]$"
      ],
      "text/plain": [
       "⎡             ______________              ______________⎤\n",
       "⎣y(x) = -√2⋅╲╱ -log(cos(x)) , y(x) = √2⋅╲╱ -log(cos(x)) ⎦"
      ]
     },
     "metadata": {},
     "output_type": "display_data"
    }
   ],
   "source": [
    "#v\n",
    "diffeq=sym.Eq(y*y.diff(x),sym.tan(x))\n",
    "q=sym.dsolve(diffeq,y,ics=({y.subs(x,0):0}))\n",
    "display(q)"
   ]
  },
  {
   "cell_type": "markdown",
   "id": "e95514d6",
   "metadata": {},
   "source": [
    "# Q7"
   ]
  },
  {
   "cell_type": "code",
   "execution_count": 45,
   "id": "2d9b1c25",
   "metadata": {},
   "outputs": [
    {
     "data": {
      "text/plain": [
       "products:\n",
       "MAXIMIZE\n",
       "1*x + 1*y + -50\n",
       "SUBJECT TO\n",
       "_C1: 50 x + 30 y <= 2400\n",
       "\n",
       "_C2: 24 x + 33 y <= 2100\n",
       "\n",
       "VARIABLES\n",
       "45 <= x Integer\n",
       "5 <= y Integer"
      ]
     },
     "execution_count": 45,
     "metadata": {},
     "output_type": "execute_result"
    }
   ],
   "source": [
    "from pulp import *\n",
    "prob=LpProblem('products',LpMaximize)\n",
    "x=LpVariable('x',lowBound=45,cat='Integer')\n",
    "y=LpVariable('y',lowBound=5,cat='Integer')\n",
    "\n",
    "prob+= (x+30-75)+(y+90-95)\n",
    "\n",
    "prob+= 50*x+30*y<=40*60\n",
    "prob+= 24*x+33*y<=35*60\n",
    "prob"
   ]
  },
  {
   "cell_type": "code",
   "execution_count": 46,
   "id": "371a95e1",
   "metadata": {},
   "outputs": [
    {
     "data": {
      "text/plain": [
       "'Optimal'"
      ]
     },
     "execution_count": 46,
     "metadata": {},
     "output_type": "execute_result"
    }
   ],
   "source": [
    "status=prob.solve()\n",
    "LpStatus[status]"
   ]
  },
  {
   "cell_type": "code",
   "execution_count": 47,
   "id": "57074e49",
   "metadata": {},
   "outputs": [
    {
     "data": {
      "image/png": "[encoded data removed]",
      "text/latex": [
       "$\\displaystyle \\left( 45, \\  5, \\  0\\right)$"
      ],
      "text/plain": [
       "(45, 5, 0)"
      ]
     },
     "execution_count": 47,
     "metadata": {},
     "output_type": "execute_result"
    }
   ],
   "source": [
    "value(x),value(y),value(prob.objective)"
   ]
  },
  {
   "cell_type": "code",
   "execution_count": null,
   "id": "cb3c3fb6",
   "metadata": {},
   "outputs": [],
   "source": []
  }
 ],
 "metadata": {
  "kernelspec": {
   "display_name": "Python 3 (ipykernel)",
   "language": "python",
   "name": "python3"
  },
  "language_info": {
   "codemirror_mode": {
    "name": "ipython",
    "version": 3
   },
   "file_extension": ".py",
   "mimetype": "text/x-python",
   "name": "python",
   "nbconvert_exporter": "python",
   "pygments_lexer": "ipython3",
   "version": "3.9.7"
  }
 },
 "nbformat": 4,
 "nbformat_minor": 5
}
