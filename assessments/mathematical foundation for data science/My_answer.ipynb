{
 "cells": [
  {
   "cell_type": "markdown",
   "metadata": {},
   "source": [
    "# question 1"
   ]
  },
  {
   "cell_type": "code",
   "execution_count": 18,
   "metadata": {},
   "outputs": [
    {
     "name": "stdout",
     "output_type": "stream",
     "text": [
      "(3, 4)\n"
     ]
    }
   ],
   "source": [
    "import numpy as np\n",
    "a=np.matrix('1 34 5 2;5 2 6 7;2 6 89 0')\n",
    "print(a.shape)"
   ]
  },
  {
   "cell_type": "markdown",
   "metadata": {},
   "source": [
    "# question 2"
   ]
  },
  {
   "cell_type": "code",
   "execution_count": 19,
   "metadata": {},
   "outputs": [
    {
     "name": "stdout",
     "output_type": "stream",
     "text": [
      "[[  34    8   48   88]\n",
      " [ 110   24  186  240]\n",
      " [1417  276 2937 2304]]\n"
     ]
    }
   ],
   "source": [
    "import numpy as np\n",
    "a=np.matrix('1 2 4;1 4 65')\n",
    "b=np.matrix('13 4 3 56;21 4 45 32')\n",
    "c=np.matrix.transpose(a)\n",
    "print(c*b)"
   ]
  },
  {
   "cell_type": "markdown",
   "metadata": {},
   "source": [
    "# question 3"
   ]
  },
  {
   "cell_type": "code",
   "execution_count": 20,
   "metadata": {},
   "outputs": [
    {
     "name": "stdout",
     "output_type": "stream",
     "text": [
      "10318.00000000001\n"
     ]
    }
   ],
   "source": [
    "import numpy as np\n",
    "a=np.matrix('1 43 2;5 21 45;6 2 5')\n",
    "print(np.linalg.det(a))"
   ]
  },
  {
   "cell_type": "markdown",
   "metadata": {},
   "source": [
    "# question 4"
   ]
  },
  {
   "cell_type": "code",
   "execution_count": 21,
   "metadata": {},
   "outputs": [
    {
     "name": "stdout",
     "output_type": "stream",
     "text": [
      "[[ 0.33333333  1.         -2.16666667]\n",
      " [-1.         -2.          5.5       ]\n",
      " [ 0.22222222  0.33333333 -0.94444444]]\n"
     ]
    }
   ],
   "source": [
    "import numpy as np\n",
    "a=np.matrix('1 4 21;5 3 6;2 2 6')\n",
    "b=np.linalg.inv(a)\n",
    "print(b)\n"
   ]
  }
 ],
 "metadata": {
  "kernelspec": {
   "display_name": "Python 3 (ipykernel)",
   "language": "python",
   "name": "python3"
  },
  "language_info": {
   "codemirror_mode": {
    "name": "ipython",
    "version": 3
   },
   "file_extension": ".py",
   "mimetype": "text/x-python",
   "name": "python",
   "nbconvert_exporter": "python",
   "pygments_lexer": "ipython3",
   "version": "3.9.7"
  }
 },
 "nbformat": 4,
 "nbformat_minor": 4
}
